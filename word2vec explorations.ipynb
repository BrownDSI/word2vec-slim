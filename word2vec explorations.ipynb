{
 "cells": [
  {
   "cell_type": "markdown",
   "metadata": {},
   "source": [
    "# Word2Vec\n",
    "\n",
    "Trained on Google News articles and pared down from the original 3-million-word vocabulary to about 300K words. "
   ]
  },
  {
   "cell_type": "markdown",
   "metadata": {},
   "source": [
    "## Data loading"
   ]
  },
  {
   "cell_type": "code",
   "execution_count": 1,
   "metadata": {},
   "outputs": [],
   "source": [
    "from gensim.models import KeyedVectors"
   ]
  },
  {
   "cell_type": "code",
   "execution_count": 2,
   "metadata": {},
   "outputs": [],
   "source": [
    "import requests\n",
    "binary_url = \"https://github.com/BrownDSI/word2vec-slim/releases/\" + \\\n",
    "             \"download/v0.1/GoogleNews-vectors-negative300-slim.bin.gz\"\n",
    "r = requests.get(binary_url)\n",
    "open('google-word2vec-slim.bin.gz','wb').write(r.content);"
   ]
  },
  {
   "cell_type": "code",
   "execution_count": 4,
   "metadata": {},
   "outputs": [],
   "source": [
    "model = KeyedVectors.load_word2vec_format('google-word2vec-slim.bin.gz',binary=True)"
   ]
  },
  {
   "cell_type": "markdown",
   "metadata": {},
   "source": [
    "## word2vec analogies"
   ]
  },
  {
   "cell_type": "code",
   "execution_count": 21,
   "metadata": {},
   "outputs": [],
   "source": [
    "def complete_analogy(a,b,c,topn=10):\n",
    "    return model.similar_by_vector(- model.get_vector(a) \n",
    "                                   + model.get_vector(b)\n",
    "                                   + model.get_vector(c),topn=topn)"
   ]
  },
  {
   "cell_type": "code",
   "execution_count": 22,
   "metadata": {},
   "outputs": [
    {
     "data": {
      "text/plain": [
       "[('Japan', 0.8330698013305664),\n",
       " ('Tokyo', 0.7668523192405701),\n",
       " ('Japanese', 0.6793394088745117),\n",
       " ('Japans', 0.63188636302948),\n",
       " ('Shizuoka', 0.6009104251861572),\n",
       " ('Kyushu', 0.5709357857704163),\n",
       " ('Maebashi', 0.5679153800010681),\n",
       " ('Hokkaido', 0.5624659657478333),\n",
       " ('Nagoya', 0.5609986186027527),\n",
       " ('Yokohama', 0.5578266382217407)]"
      ]
     },
     "execution_count": 22,
     "metadata": {},
     "output_type": "execute_result"
    }
   ],
   "source": [
    "complete_analogy(\"Paris\",\"France\",\"Tokyo\")"
   ]
  },
  {
   "cell_type": "code",
   "execution_count": 23,
   "metadata": {},
   "outputs": [
    {
     "data": {
      "text/plain": [
       "[('Queen', 0.70897376537323),\n",
       " ('King', 0.5065371990203857),\n",
       " ('Royal', 0.4004102349281311),\n",
       " ('Princes', 0.396414577960968),\n",
       " ('Scu', 0.388332724571228),\n",
       " ('king', 0.37896907329559326),\n",
       " ('Conqueror', 0.37822434306144714),\n",
       " ('Crown', 0.3727468252182007),\n",
       " ('Rameses', 0.3666337728500366),\n",
       " ('Conquerer', 0.3661169409751892)]"
      ]
     },
     "execution_count": 23,
     "metadata": {},
     "output_type": "execute_result"
    }
   ],
   "source": [
    "complete_analogy(\"Woman\",\"Man\",\"Queen\")"
   ]
  },
  {
   "cell_type": "code",
   "execution_count": 34,
   "metadata": {},
   "outputs": [
    {
     "data": {
      "text/plain": [
       "[('flipped', 0.6986249089241028),\n",
       " ('flip', 0.5979549884796143),\n",
       " ('flipping', 0.5788305997848511),\n",
       " ('flips', 0.575873613357544),\n",
       " ('Flipping', 0.433332622051239),\n",
       " ('jackknifing', 0.40923744440078735),\n",
       " ('switch', 0.40313392877578735),\n",
       " ('Flicking', 0.36930978298187256),\n",
       " ('overturned', 0.3692159652709961),\n",
       " ('careen', 0.36834967136383057)]"
      ]
     },
     "execution_count": 34,
     "metadata": {},
     "output_type": "execute_result"
    }
   ],
   "source": [
    "complete_analogy(\"swam\",\"swim\",\"flipped\")"
   ]
  },
  {
   "cell_type": "code",
   "execution_count": 31,
   "metadata": {},
   "outputs": [
    {
     "data": {
      "text/plain": [
       "[('ABHA', 0.21067236363887787),\n",
       " ('KEZ', 0.20679625868797302),\n",
       " ('Directorships', 0.1989758014678955),\n",
       " ('Democratie', 0.19581405818462372),\n",
       " ('Constituting', 0.19313615560531616),\n",
       " ('Amelioration', 0.19119952619075775),\n",
       " ('TANGIER', 0.19055309891700745),\n",
       " ('Namangan', 0.19042852520942688),\n",
       " ('PRIDES', 0.18617694079875946),\n",
       " ('BHARATIYA', 0.18478044867515564)]"
      ]
     },
     "execution_count": 31,
     "metadata": {},
     "output_type": "execute_result"
    }
   ],
   "source": [
    "# negating does *not* reveal antonyms\n",
    "model.similar_by_vector(-model.get_vector('quick'))"
   ]
  },
  {
   "cell_type": "markdown",
   "metadata": {},
   "source": [
    "# Bias\n",
    "word2vec transmits real-world bias in the training data: "
   ]
  },
  {
   "cell_type": "code",
   "execution_count": 54,
   "metadata": {},
   "outputs": [
    {
     "data": {
      "text/plain": [
       "{'black': 0.08380793,\n",
       " 'latino': 0.059527025,\n",
       " 'white': 0.04107807,\n",
       " 'asian': -0.0511574}"
      ]
     },
     "execution_count": 54,
     "metadata": {},
     "output_type": "execute_result"
    }
   ],
   "source": [
    "{race: model.similarity('criminal',race) for race in ['black','latino','white','asian']}"
   ]
  },
  {
   "cell_type": "code",
   "execution_count": 55,
   "metadata": {},
   "outputs": [
    {
     "data": {
      "text/plain": [
       "{'man': 0.19424875, 'woman': 0.122108325}"
      ]
     },
     "execution_count": 55,
     "metadata": {},
     "output_type": "execute_result"
    }
   ],
   "source": [
    "{gender: model.similarity('leader',gender) for gender in ['man','woman']}"
   ]
  },
  {
   "cell_type": "code",
   "execution_count": null,
   "metadata": {},
   "outputs": [],
   "source": []
  }
 ],
 "metadata": {
  "kernelspec": {
   "display_name": "Python 3",
   "language": "python",
   "name": "python3"
  },
  "language_info": {
   "codemirror_mode": {
    "name": "ipython",
    "version": 3
   },
   "file_extension": ".py",
   "mimetype": "text/x-python",
   "name": "python",
   "nbconvert_exporter": "python",
   "pygments_lexer": "ipython3",
   "version": "3.7.3"
  }
 },
 "nbformat": 4,
 "nbformat_minor": 2
}
